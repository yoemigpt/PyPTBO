{
 "cells": [
  {
   "cell_type": "code",
   "execution_count": 7,
   "metadata": {},
   "outputs": [],
   "source": [
    "from tqdm import tqdm\n",
    "\n",
    "from torch import log2, arange\n",
    "from torch import nn\n",
    "from torch import optim\n",
    "from torch.utils.data import random_split, DataLoader\n",
    "\n",
    "from ptbo import NormalPerturbation\n",
    "from ptbo import PerturbedLoss, NDCGLoss\n",
    "from ptbo import RankingOracle\n",
    "from ptbo import ndcg_score\n",
    "\n",
    "from ptbo.datasets import salr\n",
    "\n",
    "import matplotlib.pyplot as plt\n",
    "import numpy as np"
   ]
  },
  {
   "cell_type": "code",
   "execution_count": 3,
   "metadata": {},
   "outputs": [],
   "source": [
    "dataset = salr.Authorship()\n",
    "\n",
    "n, m = map(len, dataset[0])"
   ]
  },
  {
   "cell_type": "code",
   "execution_count": 4,
   "metadata": {},
   "outputs": [],
   "source": [
    "model = nn.Sequential(\n",
    "    nn.Linear(n, 64),\n",
    "    nn.ReLU(),\n",
    "    nn.Linear(64, 64),\n",
    "    nn.ReLU(),\n",
    "    nn.Linear(64, m)\n",
    ")\n",
    "\n",
    "optimizer = optim.SGD(\n",
    "    model.parameters(),\n",
    "    lr=0.01,\n",
    "    momentum=0.9\n",
    ")\n",
    "\n",
    "perturb = NormalPerturbation()\n",
    "oracle = RankingOracle(inputs=m)\n",
    "\n",
    "weight = 1. / log2(2 + arange(m))\n",
    "\n",
    "perturb_loss = PerturbedLoss(\n",
    "    perturb=perturb,\n",
    "    samples=100,\n",
    "    oracle=oracle,\n",
    "    loss=NDCGLoss(weight)\n",
    ")"
   ]
  },
  {
   "cell_type": "code",
   "execution_count": 5,
   "metadata": {},
   "outputs": [],
   "source": [
    "train_set, test_set = random_split(dataset, [0.8, 0.2])\n",
    "train_loader = DataLoader(train_set, batch_size=8, shuffle=True)\n",
    "\n",
    "epochs = 10"
   ]
  },
  {
   "cell_type": "code",
   "execution_count": 6,
   "metadata": {},
   "outputs": [
    {
     "name": "stderr",
     "output_type": "stream",
     "text": [
      "Batch: 100%|██████████| 85/85 [00:05<00:00, 14.87it/s]\n",
      "Batch: 100%|██████████| 85/85 [00:07<00:00, 11.57it/s]\n",
      "Batch: 100%|██████████| 85/85 [00:06<00:00, 13.36it/s]\n",
      "Batch: 100%|██████████| 85/85 [00:07<00:00, 10.79it/s]\n",
      "Batch: 100%|██████████| 85/85 [00:07<00:00, 10.67it/s]\n",
      "Batch: 100%|██████████| 85/85 [00:07<00:00, 10.83it/s]\n",
      "Batch: 100%|██████████| 85/85 [00:07<00:00, 11.09it/s]\n",
      "Batch: 100%|██████████| 85/85 [00:11<00:00,  7.34it/s]\n",
      "Batch: 100%|██████████| 85/85 [00:08<00:00, 10.20it/s]\n",
      "Batch: 100%|██████████| 85/85 [00:10<00:00,  7.76it/s]\n",
      "Epoch: 100%|██████████| 10/10 [01:21<00:00,  8.17s/it]\n"
     ]
    }
   ],
   "source": [
    "running_losses = []\n",
    "for epoch in tqdm(range(epochs), desc=\"Epoch\", leave=True, position=0):\n",
    "    model.train()\n",
    "\n",
    "    running_loss = 0.0\n",
    "    for X, y in tqdm(train_loader, desc=\"Batch\", position=1):\n",
    "        optimizer.zero_grad()\n",
    "        theta = model(X)\n",
    "        loss = perturb_loss(theta, y)\n",
    "        loss.backward()\n",
    "        running_loss += loss.item()\n",
    "        optimizer.step()\n",
    "    running_loss /= len(train_loader)\n",
    "\n",
    "    running_losses.append(running_loss)"
   ]
  },
  {
   "cell_type": "code",
   "execution_count": 8,
   "metadata": {},
   "outputs": [
    {
     "data": {
      "image/png": "[encoded data removed]",
      "text/plain": [
       "<Figure size 640x480 with 1 Axes>"
      ]
     },
     "metadata": {},
     "output_type": "display_data"
    }
   ],
   "source": [
    "plt.plot(np.arange(1, 1+epochs), running_losses)\n",
    "plt.show()"
   ]
  },
  {
   "cell_type": "code",
   "execution_count": 9,
   "metadata": {},
   "outputs": [
    {
     "name": "stdout",
     "output_type": "stream",
     "text": [
      "0.99901223360073\n"
     ]
    }
   ],
   "source": [
    "test_loader = DataLoader(test_set, batch_size=1, shuffle=True)\n",
    "\n",
    "accuracy = 0.0\n",
    "model.eval()\n",
    "for X, y in test_loader:\n",
    "    theta = model(X)\n",
    "    perm = oracle.call(theta)\n",
    "    running_accuracy = ndcg_score(perm, y, weight).mean().item()\n",
    "    accuracy += running_accuracy\n",
    "\n",
    "print(accuracy / len(test_loader))"
   ]
  }
 ],
 "metadata": {
  "kernelspec": {
   "display_name": "ptbo",
   "language": "python",
   "name": "python3"
  },
  "language_info": {
   "codemirror_mode": {
    "name": "ipython",
    "version": 3
   },
   "file_extension": ".py",
   "mimetype": "text/x-python",
   "name": "python",
   "nbconvert_exporter": "python",
   "pygments_lexer": "ipython3",
   "version": "3.10.10"
  },
  "orig_nbformat": 4
 },
 "nbformat": 4,
 "nbformat_minor": 2
}
